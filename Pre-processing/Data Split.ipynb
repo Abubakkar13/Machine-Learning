{
 "cells": [
  {
   "cell_type": "code",
   "execution_count": 1,
   "metadata": {},
   "outputs": [],
   "source": [
    "# Importing the libraries\n",
    "import numpy as np\n",
    "import matplotlib.pyplot as plt\n",
    "import pandas as pd"
   ]
  },
  {
   "cell_type": "code",
   "execution_count": 2,
   "metadata": {},
   "outputs": [],
   "source": [
    "from sklearn import datasets"
   ]
  },
  {
   "cell_type": "code",
   "execution_count": 3,
   "metadata": {},
   "outputs": [],
   "source": [
    "# Importing the dataset\n",
    "dataset = pd.read_csv('Data_Ads.csv')"
   ]
  },
  {
   "cell_type": "code",
   "execution_count": 4,
   "metadata": {},
   "outputs": [],
   "source": [
    "X = dataset.iloc[:, [2, 3]].values\n",
    "y = dataset.iloc[:, 4].values"
   ]
  },
  {
   "cell_type": "code",
   "execution_count": 10,
   "metadata": {},
   "outputs": [],
   "source": [
    "# Splitting the dataset into the Training set and Test set\n",
    "from sklearn.model_selection import train_test_split\n",
    "X_train, X_test, y_train, y_test = train_test_split(X, y, test_size = 0.25, random_state = 0)"
   ]
  },
  {
   "cell_type": "code",
   "execution_count": null,
   "metadata": {},
   "outputs": [],
   "source": [
    "Data is always split into Train and test. Train is used to build and Test is used to evaluate the model or predict\n",
    "train_test_split is a method to Split arrays or matrices into random train and test subsets\n",
    "\n",
    "Call the class and pass our dataset X,y along with\n",
    "    test_size: represents the proportion of split.\n",
    "    random_state: Controls the shuffling applied to the data before applying the split."
   ]
  },
  {
   "cell_type": "code",
   "execution_count": 11,
   "metadata": {},
   "outputs": [
    {
     "name": "stdout",
     "output_type": "stream",
     "text": [
      "[[    27  58000]\n",
      " [    18  82000]\n",
      " [    25  33000]\n",
      " [    47  25000]\n",
      " [    48  41000]\n",
      " [    45  26000]\n",
      " [    35  20000]\n",
      " [    26  80000]\n",
      " [    29  43000]\n",
      " [    27  84000]\n",
      " [    19  76000]\n",
      " [    46  28000]\n",
      " [    48  29000]\n",
      " [    35  65000]\n",
      " [    32 150000]\n",
      " [    46  23000]\n",
      " [    27  57000]\n",
      " [    19  19000]\n",
      " [    47  49000]\n",
      " [    29  80000]\n",
      " [    20  86000]]\n"
     ]
    }
   ],
   "source": [
    "print(X_train)"
   ]
  },
  {
   "cell_type": "code",
   "execution_count": 12,
   "metadata": {},
   "outputs": [
    {
     "name": "stdout",
     "output_type": "stream",
     "text": [
      "[[   26 43000]\n",
      " [   45 22000]\n",
      " [   45 22000]\n",
      " [   32 18000]\n",
      " [   26 52000]\n",
      " [   47 20000]\n",
      " [   47 30000]\n",
      " [   49 28000]]\n"
     ]
    }
   ],
   "source": [
    "print(X_test)"
   ]
  },
  {
   "cell_type": "markdown",
   "metadata": {},
   "source": [
    "As the test split is 0.25, 25% of the data is split for testing and 75% for training"
   ]
  }
 ],
 "metadata": {
  "kernelspec": {
   "display_name": "Python 3",
   "language": "python",
   "name": "python3"
  },
  "language_info": {
   "codemirror_mode": {
    "name": "ipython",
    "version": 3
   },
   "file_extension": ".py",
   "mimetype": "text/x-python",
   "name": "python",
   "nbconvert_exporter": "python",
   "pygments_lexer": "ipython3",
   "version": "3.7.6"
  }
 },
 "nbformat": 4,
 "nbformat_minor": 4
}
